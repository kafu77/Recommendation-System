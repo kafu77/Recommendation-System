{
 "cells": [
  {
   "cell_type": "markdown",
   "id": "d5fc801f",
   "metadata": {},
   "source": [
    "# Recommender Systems with Surprise"
   ]
  },
  {
   "cell_type": "markdown",
   "id": "92f27908",
   "metadata": {},
   "source": [
    "### Import Libraries"
   ]
  },
  {
   "cell_type": "code",
   "execution_count": 33,
   "id": "bb2be765",
   "metadata": {},
   "outputs": [],
   "source": [
    "import numpy as np\n",
    "import pandas as pd\n",
    "import matplotlib.pyplot as plt\n",
    "import seaborn as sns\n",
    "sns.set_style('white')\n",
    "import plotly.express as px\n",
    "import plotly.graph_objects as go\n",
    "%matplotlib inline\n",
    "\n",
    "#Surprise tools\n",
    "from surprise import Reader\n",
    "from surprise import Dataset\n",
    "from surprise import SVD,SVDpp,KNNBasic,NMF,SlopeOne,CoClustering\n",
    "from surprise.model_selection import cross_validate\n",
    "from sklearn.manifold import TSNE"
   ]
  },
  {
   "cell_type": "markdown",
   "id": "a6ecb1ed",
   "metadata": {},
   "source": [
    "### Reading the Data"
   ]
  },
  {
   "cell_type": "code",
   "execution_count": 34,
   "id": "4fb80ca5",
   "metadata": {},
   "outputs": [
    {
     "data": {
      "text/html": [
       "<div>\n",
       "<style scoped>\n",
       "    .dataframe tbody tr th:only-of-type {\n",
       "        vertical-align: middle;\n",
       "    }\n",
       "\n",
       "    .dataframe tbody tr th {\n",
       "        vertical-align: top;\n",
       "    }\n",
       "\n",
       "    .dataframe thead th {\n",
       "        text-align: right;\n",
       "    }\n",
       "</style>\n",
       "<table border=\"1\" class=\"dataframe\">\n",
       "  <thead>\n",
       "    <tr style=\"text-align: right;\">\n",
       "      <th></th>\n",
       "      <th>userId</th>\n",
       "      <th>movieId</th>\n",
       "      <th>rating</th>\n",
       "      <th>timestamp</th>\n",
       "    </tr>\n",
       "  </thead>\n",
       "  <tbody>\n",
       "    <tr>\n",
       "      <th>0</th>\n",
       "      <td>1</td>\n",
       "      <td>1</td>\n",
       "      <td>4.0</td>\n",
       "      <td>964982703</td>\n",
       "    </tr>\n",
       "    <tr>\n",
       "      <th>1</th>\n",
       "      <td>1</td>\n",
       "      <td>3</td>\n",
       "      <td>4.0</td>\n",
       "      <td>964981247</td>\n",
       "    </tr>\n",
       "    <tr>\n",
       "      <th>2</th>\n",
       "      <td>1</td>\n",
       "      <td>6</td>\n",
       "      <td>4.0</td>\n",
       "      <td>964982224</td>\n",
       "    </tr>\n",
       "    <tr>\n",
       "      <th>3</th>\n",
       "      <td>1</td>\n",
       "      <td>47</td>\n",
       "      <td>5.0</td>\n",
       "      <td>964983815</td>\n",
       "    </tr>\n",
       "    <tr>\n",
       "      <th>4</th>\n",
       "      <td>1</td>\n",
       "      <td>50</td>\n",
       "      <td>5.0</td>\n",
       "      <td>964982931</td>\n",
       "    </tr>\n",
       "  </tbody>\n",
       "</table>\n",
       "</div>"
      ],
      "text/plain": [
       "   userId  movieId  rating  timestamp\n",
       "0       1        1     4.0  964982703\n",
       "1       1        3     4.0  964981247\n",
       "2       1        6     4.0  964982224\n",
       "3       1       47     5.0  964983815\n",
       "4       1       50     5.0  964982931"
      ]
     },
     "execution_count": 34,
     "metadata": {},
     "output_type": "execute_result"
    }
   ],
   "source": [
    "ratings_df = pd.read_csv('ratings.csv')\n",
    "ratings_df.head()"
   ]
  },
  {
   "cell_type": "code",
   "execution_count": 35,
   "id": "e21916f5",
   "metadata": {},
   "outputs": [
    {
     "data": {
      "text/html": [
       "<div>\n",
       "<style scoped>\n",
       "    .dataframe tbody tr th:only-of-type {\n",
       "        vertical-align: middle;\n",
       "    }\n",
       "\n",
       "    .dataframe tbody tr th {\n",
       "        vertical-align: top;\n",
       "    }\n",
       "\n",
       "    .dataframe thead th {\n",
       "        text-align: right;\n",
       "    }\n",
       "</style>\n",
       "<table border=\"1\" class=\"dataframe\">\n",
       "  <thead>\n",
       "    <tr style=\"text-align: right;\">\n",
       "      <th></th>\n",
       "      <th>movieId</th>\n",
       "      <th>title</th>\n",
       "      <th>genres</th>\n",
       "    </tr>\n",
       "  </thead>\n",
       "  <tbody>\n",
       "    <tr>\n",
       "      <th>0</th>\n",
       "      <td>1</td>\n",
       "      <td>Toy Story (1995)</td>\n",
       "      <td>Adventure|Animation|Children|Comedy|Fantasy</td>\n",
       "    </tr>\n",
       "    <tr>\n",
       "      <th>1</th>\n",
       "      <td>2</td>\n",
       "      <td>Jumanji (1995)</td>\n",
       "      <td>Adventure|Children|Fantasy</td>\n",
       "    </tr>\n",
       "    <tr>\n",
       "      <th>2</th>\n",
       "      <td>3</td>\n",
       "      <td>Grumpier Old Men (1995)</td>\n",
       "      <td>Comedy|Romance</td>\n",
       "    </tr>\n",
       "    <tr>\n",
       "      <th>3</th>\n",
       "      <td>4</td>\n",
       "      <td>Waiting to Exhale (1995)</td>\n",
       "      <td>Comedy|Drama|Romance</td>\n",
       "    </tr>\n",
       "    <tr>\n",
       "      <th>4</th>\n",
       "      <td>5</td>\n",
       "      <td>Father of the Bride Part II (1995)</td>\n",
       "      <td>Comedy</td>\n",
       "    </tr>\n",
       "  </tbody>\n",
       "</table>\n",
       "</div>"
      ],
      "text/plain": [
       "   movieId                               title  \\\n",
       "0        1                    Toy Story (1995)   \n",
       "1        2                      Jumanji (1995)   \n",
       "2        3             Grumpier Old Men (1995)   \n",
       "3        4            Waiting to Exhale (1995)   \n",
       "4        5  Father of the Bride Part II (1995)   \n",
       "\n",
       "                                        genres  \n",
       "0  Adventure|Animation|Children|Comedy|Fantasy  \n",
       "1                   Adventure|Children|Fantasy  \n",
       "2                               Comedy|Romance  \n",
       "3                         Comedy|Drama|Romance  \n",
       "4                                       Comedy  "
      ]
     },
     "execution_count": 35,
     "metadata": {},
     "output_type": "execute_result"
    }
   ],
   "source": [
    "movie_df=pd.read_csv('movies.csv')\n",
    "movie_df.head()"
   ]
  },
  {
   "cell_type": "code",
   "execution_count": 4,
   "id": "97ac388a",
   "metadata": {},
   "outputs": [
    {
     "data": {
      "text/html": [
       "<div>\n",
       "<style scoped>\n",
       "    .dataframe tbody tr th:only-of-type {\n",
       "        vertical-align: middle;\n",
       "    }\n",
       "\n",
       "    .dataframe tbody tr th {\n",
       "        vertical-align: top;\n",
       "    }\n",
       "\n",
       "    .dataframe thead th {\n",
       "        text-align: right;\n",
       "    }\n",
       "</style>\n",
       "<table border=\"1\" class=\"dataframe\">\n",
       "  <thead>\n",
       "    <tr style=\"text-align: right;\">\n",
       "      <th></th>\n",
       "      <th>movieId</th>\n",
       "      <th>title</th>\n",
       "      <th>genres</th>\n",
       "      <th>userId</th>\n",
       "      <th>rating</th>\n",
       "      <th>timestamp</th>\n",
       "    </tr>\n",
       "  </thead>\n",
       "  <tbody>\n",
       "    <tr>\n",
       "      <th>0</th>\n",
       "      <td>1</td>\n",
       "      <td>Toy Story (1995)</td>\n",
       "      <td>Adventure|Animation|Children|Comedy|Fantasy</td>\n",
       "      <td>1</td>\n",
       "      <td>4.0</td>\n",
       "      <td>964982703</td>\n",
       "    </tr>\n",
       "    <tr>\n",
       "      <th>1</th>\n",
       "      <td>1</td>\n",
       "      <td>Toy Story (1995)</td>\n",
       "      <td>Adventure|Animation|Children|Comedy|Fantasy</td>\n",
       "      <td>5</td>\n",
       "      <td>4.0</td>\n",
       "      <td>847434962</td>\n",
       "    </tr>\n",
       "    <tr>\n",
       "      <th>2</th>\n",
       "      <td>1</td>\n",
       "      <td>Toy Story (1995)</td>\n",
       "      <td>Adventure|Animation|Children|Comedy|Fantasy</td>\n",
       "      <td>7</td>\n",
       "      <td>4.5</td>\n",
       "      <td>1106635946</td>\n",
       "    </tr>\n",
       "    <tr>\n",
       "      <th>3</th>\n",
       "      <td>1</td>\n",
       "      <td>Toy Story (1995)</td>\n",
       "      <td>Adventure|Animation|Children|Comedy|Fantasy</td>\n",
       "      <td>15</td>\n",
       "      <td>2.5</td>\n",
       "      <td>1510577970</td>\n",
       "    </tr>\n",
       "    <tr>\n",
       "      <th>4</th>\n",
       "      <td>1</td>\n",
       "      <td>Toy Story (1995)</td>\n",
       "      <td>Adventure|Animation|Children|Comedy|Fantasy</td>\n",
       "      <td>17</td>\n",
       "      <td>4.5</td>\n",
       "      <td>1305696483</td>\n",
       "    </tr>\n",
       "  </tbody>\n",
       "</table>\n",
       "</div>"
      ],
      "text/plain": [
       "   movieId             title                                       genres  \\\n",
       "0        1  Toy Story (1995)  Adventure|Animation|Children|Comedy|Fantasy   \n",
       "1        1  Toy Story (1995)  Adventure|Animation|Children|Comedy|Fantasy   \n",
       "2        1  Toy Story (1995)  Adventure|Animation|Children|Comedy|Fantasy   \n",
       "3        1  Toy Story (1995)  Adventure|Animation|Children|Comedy|Fantasy   \n",
       "4        1  Toy Story (1995)  Adventure|Animation|Children|Comedy|Fantasy   \n",
       "\n",
       "   userId  rating   timestamp  \n",
       "0       1     4.0   964982703  \n",
       "1       5     4.0   847434962  \n",
       "2       7     4.5  1106635946  \n",
       "3      15     2.5  1510577970  \n",
       "4      17     4.5  1305696483  "
      ]
     },
     "execution_count": 4,
     "metadata": {},
     "output_type": "execute_result"
    }
   ],
   "source": [
    "df = pd.merge(movie_df,ratings_df,on='movieId',how='inner')\n",
    "df.head()"
   ]
  },
  {
   "cell_type": "code",
   "execution_count": 36,
   "id": "1f12823e",
   "metadata": {},
   "outputs": [
    {
     "name": "stdout",
     "output_type": "stream",
     "text": [
      "<class 'pandas.core.frame.DataFrame'>\n",
      "RangeIndex: 100836 entries, 0 to 100835\n",
      "Data columns (total 4 columns):\n",
      " #   Column     Non-Null Count   Dtype  \n",
      "---  ------     --------------   -----  \n",
      " 0   userId     100836 non-null  int64  \n",
      " 1   movieId    100836 non-null  int64  \n",
      " 2   rating     100836 non-null  float64\n",
      " 3   timestamp  100836 non-null  int64  \n",
      "dtypes: float64(1), int64(3)\n",
      "memory usage: 3.1 MB\n"
     ]
    }
   ],
   "source": [
    "ratings_df.info()"
   ]
  },
  {
   "cell_type": "code",
   "execution_count": 6,
   "id": "4cedeb68",
   "metadata": {},
   "outputs": [
    {
     "name": "stdout",
     "output_type": "stream",
     "text": [
      "<class 'pandas.core.frame.DataFrame'>\n",
      "RangeIndex: 9742 entries, 0 to 9741\n",
      "Data columns (total 3 columns):\n",
      " #   Column   Non-Null Count  Dtype \n",
      "---  ------   --------------  ----- \n",
      " 0   movieId  9742 non-null   int64 \n",
      " 1   title    9742 non-null   object\n",
      " 2   genres   9742 non-null   object\n",
      "dtypes: int64(1), object(2)\n",
      "memory usage: 228.5+ KB\n"
     ]
    }
   ],
   "source": [
    "movie_df.info()"
   ]
  },
  {
   "cell_type": "code",
   "execution_count": 7,
   "id": "67111518",
   "metadata": {},
   "outputs": [
    {
     "data": {
      "text/html": [
       "<div>\n",
       "<style scoped>\n",
       "    .dataframe tbody tr th:only-of-type {\n",
       "        vertical-align: middle;\n",
       "    }\n",
       "\n",
       "    .dataframe tbody tr th {\n",
       "        vertical-align: top;\n",
       "    }\n",
       "\n",
       "    .dataframe thead th {\n",
       "        text-align: right;\n",
       "    }\n",
       "</style>\n",
       "<table border=\"1\" class=\"dataframe\">\n",
       "  <thead>\n",
       "    <tr style=\"text-align: right;\">\n",
       "      <th></th>\n",
       "      <th>userId</th>\n",
       "      <th>movieId</th>\n",
       "      <th>rating</th>\n",
       "      <th>timestamp</th>\n",
       "    </tr>\n",
       "  </thead>\n",
       "  <tbody>\n",
       "    <tr>\n",
       "      <th>count</th>\n",
       "      <td>100836.000000</td>\n",
       "      <td>100836.000000</td>\n",
       "      <td>100836.000000</td>\n",
       "      <td>1.008360e+05</td>\n",
       "    </tr>\n",
       "    <tr>\n",
       "      <th>mean</th>\n",
       "      <td>326.127564</td>\n",
       "      <td>19435.295718</td>\n",
       "      <td>3.501557</td>\n",
       "      <td>1.205946e+09</td>\n",
       "    </tr>\n",
       "    <tr>\n",
       "      <th>std</th>\n",
       "      <td>182.618491</td>\n",
       "      <td>35530.987199</td>\n",
       "      <td>1.042529</td>\n",
       "      <td>2.162610e+08</td>\n",
       "    </tr>\n",
       "    <tr>\n",
       "      <th>min</th>\n",
       "      <td>1.000000</td>\n",
       "      <td>1.000000</td>\n",
       "      <td>0.500000</td>\n",
       "      <td>8.281246e+08</td>\n",
       "    </tr>\n",
       "    <tr>\n",
       "      <th>25%</th>\n",
       "      <td>177.000000</td>\n",
       "      <td>1199.000000</td>\n",
       "      <td>3.000000</td>\n",
       "      <td>1.019124e+09</td>\n",
       "    </tr>\n",
       "    <tr>\n",
       "      <th>50%</th>\n",
       "      <td>325.000000</td>\n",
       "      <td>2991.000000</td>\n",
       "      <td>3.500000</td>\n",
       "      <td>1.186087e+09</td>\n",
       "    </tr>\n",
       "    <tr>\n",
       "      <th>75%</th>\n",
       "      <td>477.000000</td>\n",
       "      <td>8122.000000</td>\n",
       "      <td>4.000000</td>\n",
       "      <td>1.435994e+09</td>\n",
       "    </tr>\n",
       "    <tr>\n",
       "      <th>max</th>\n",
       "      <td>610.000000</td>\n",
       "      <td>193609.000000</td>\n",
       "      <td>5.000000</td>\n",
       "      <td>1.537799e+09</td>\n",
       "    </tr>\n",
       "  </tbody>\n",
       "</table>\n",
       "</div>"
      ],
      "text/plain": [
       "              userId        movieId         rating     timestamp\n",
       "count  100836.000000  100836.000000  100836.000000  1.008360e+05\n",
       "mean      326.127564   19435.295718       3.501557  1.205946e+09\n",
       "std       182.618491   35530.987199       1.042529  2.162610e+08\n",
       "min         1.000000       1.000000       0.500000  8.281246e+08\n",
       "25%       177.000000    1199.000000       3.000000  1.019124e+09\n",
       "50%       325.000000    2991.000000       3.500000  1.186087e+09\n",
       "75%       477.000000    8122.000000       4.000000  1.435994e+09\n",
       "max       610.000000  193609.000000       5.000000  1.537799e+09"
      ]
     },
     "execution_count": 7,
     "metadata": {},
     "output_type": "execute_result"
    }
   ],
   "source": [
    "ratings_df.describe()"
   ]
  },
  {
   "cell_type": "markdown",
   "id": "50b94239",
   "metadata": {},
   "source": [
    "The minimu rating is 0.5 and maximum rating is 5"
   ]
  },
  {
   "cell_type": "markdown",
   "id": "1e169548",
   "metadata": {},
   "source": [
    "## Data Visualization"
   ]
  },
  {
   "cell_type": "code",
   "execution_count": 49,
   "id": "a5f4a63f",
   "metadata": {},
   "outputs": [
    {
     "data": {
      "text/plain": [
       "title\n",
       "Gena the Crocodile (1969)              5.0\n",
       "True Stories (1986)                    5.0\n",
       "Cosmic Scrat-tastrophe (2015)          5.0\n",
       "Love and Pigeons (1985)                5.0\n",
       "Red Sorghum (Hong gao liang) (1987)    5.0\n",
       "Name: rating, dtype: float64"
      ]
     },
     "execution_count": 49,
     "metadata": {},
     "output_type": "execute_result"
    }
   ],
   "source": [
    "df.groupby('title')['rating'].mean().sort_values(ascending=False).head()"
   ]
  },
  {
   "cell_type": "markdown",
   "id": "8f048e85",
   "metadata": {},
   "source": [
    "The movie Gena the Crocodile (1969) is on the top rated movie, but we do nopt know how many people rated that movie."
   ]
  },
  {
   "cell_type": "code",
   "execution_count": 50,
   "id": "2e48a8d2",
   "metadata": {},
   "outputs": [
    {
     "data": {
      "text/plain": [
       "title\n",
       "Forrest Gump (1994)                 329\n",
       "Shawshank Redemption, The (1994)    317\n",
       "Pulp Fiction (1994)                 307\n",
       "Silence of the Lambs, The (1991)    279\n",
       "Matrix, The (1999)                  278\n",
       "Name: rating, dtype: int64"
      ]
     },
     "execution_count": 50,
     "metadata": {},
     "output_type": "execute_result"
    }
   ],
   "source": [
    "df.groupby('title')['rating'].count().sort_values(ascending=False).head()"
   ]
  },
  {
   "cell_type": "markdown",
   "id": "2fec1720",
   "metadata": {},
   "source": [
    "This counting method gives us the total number of users rated for a particular film. The top rated movie is Forrest Gump (1994).\n",
    "This movie has been wateched by more than 329 users. "
   ]
  },
  {
   "cell_type": "code",
   "execution_count": 8,
   "id": "14d1586b",
   "metadata": {},
   "outputs": [
    {
     "data": {
      "text/html": [
       "<div>\n",
       "<style scoped>\n",
       "    .dataframe tbody tr th:only-of-type {\n",
       "        vertical-align: middle;\n",
       "    }\n",
       "\n",
       "    .dataframe tbody tr th {\n",
       "        vertical-align: top;\n",
       "    }\n",
       "\n",
       "    .dataframe thead th {\n",
       "        text-align: right;\n",
       "    }\n",
       "</style>\n",
       "<table border=\"1\" class=\"dataframe\">\n",
       "  <thead>\n",
       "    <tr style=\"text-align: right;\">\n",
       "      <th></th>\n",
       "      <th>rating</th>\n",
       "    </tr>\n",
       "    <tr>\n",
       "      <th>title</th>\n",
       "      <th></th>\n",
       "    </tr>\n",
       "  </thead>\n",
       "  <tbody>\n",
       "    <tr>\n",
       "      <th>'71 (2014)</th>\n",
       "      <td>4.0</td>\n",
       "    </tr>\n",
       "    <tr>\n",
       "      <th>'Hellboy': The Seeds of Creation (2004)</th>\n",
       "      <td>4.0</td>\n",
       "    </tr>\n",
       "    <tr>\n",
       "      <th>'Round Midnight (1986)</th>\n",
       "      <td>3.5</td>\n",
       "    </tr>\n",
       "    <tr>\n",
       "      <th>'Salem's Lot (2004)</th>\n",
       "      <td>5.0</td>\n",
       "    </tr>\n",
       "    <tr>\n",
       "      <th>'Til There Was You (1997)</th>\n",
       "      <td>4.0</td>\n",
       "    </tr>\n",
       "  </tbody>\n",
       "</table>\n",
       "</div>"
      ],
      "text/plain": [
       "                                         rating\n",
       "title                                          \n",
       "'71 (2014)                                  4.0\n",
       "'Hellboy': The Seeds of Creation (2004)     4.0\n",
       "'Round Midnight (1986)                      3.5\n",
       "'Salem's Lot (2004)                         5.0\n",
       "'Til There Was You (1997)                   4.0"
      ]
     },
     "execution_count": 8,
     "metadata": {},
     "output_type": "execute_result"
    }
   ],
   "source": [
    "ratings = pd.DataFrame(df.groupby('title')['rating'].mean())\n",
    "ratings.head()"
   ]
  },
  {
   "cell_type": "code",
   "execution_count": 52,
   "id": "db90bd94",
   "metadata": {},
   "outputs": [
    {
     "data": {
      "text/html": [
       "<div>\n",
       "<style scoped>\n",
       "    .dataframe tbody tr th:only-of-type {\n",
       "        vertical-align: middle;\n",
       "    }\n",
       "\n",
       "    .dataframe tbody tr th {\n",
       "        vertical-align: top;\n",
       "    }\n",
       "\n",
       "    .dataframe thead th {\n",
       "        text-align: right;\n",
       "    }\n",
       "</style>\n",
       "<table border=\"1\" class=\"dataframe\">\n",
       "  <thead>\n",
       "    <tr style=\"text-align: right;\">\n",
       "      <th></th>\n",
       "      <th>rating</th>\n",
       "      <th>num of ratings</th>\n",
       "    </tr>\n",
       "    <tr>\n",
       "      <th>title</th>\n",
       "      <th></th>\n",
       "      <th></th>\n",
       "    </tr>\n",
       "  </thead>\n",
       "  <tbody>\n",
       "    <tr>\n",
       "      <th>'71 (2014)</th>\n",
       "      <td>4.0</td>\n",
       "      <td>1</td>\n",
       "    </tr>\n",
       "    <tr>\n",
       "      <th>'Hellboy': The Seeds of Creation (2004)</th>\n",
       "      <td>4.0</td>\n",
       "      <td>1</td>\n",
       "    </tr>\n",
       "    <tr>\n",
       "      <th>'Round Midnight (1986)</th>\n",
       "      <td>3.5</td>\n",
       "      <td>2</td>\n",
       "    </tr>\n",
       "    <tr>\n",
       "      <th>'Salem's Lot (2004)</th>\n",
       "      <td>5.0</td>\n",
       "      <td>1</td>\n",
       "    </tr>\n",
       "    <tr>\n",
       "      <th>'Til There Was You (1997)</th>\n",
       "      <td>4.0</td>\n",
       "      <td>2</td>\n",
       "    </tr>\n",
       "  </tbody>\n",
       "</table>\n",
       "</div>"
      ],
      "text/plain": [
       "                                         rating  num of ratings\n",
       "title                                                          \n",
       "'71 (2014)                                  4.0               1\n",
       "'Hellboy': The Seeds of Creation (2004)     4.0               1\n",
       "'Round Midnight (1986)                      3.5               2\n",
       "'Salem's Lot (2004)                         5.0               1\n",
       "'Til There Was You (1997)                   4.0               2"
      ]
     },
     "execution_count": 52,
     "metadata": {},
     "output_type": "execute_result"
    }
   ],
   "source": [
    "ratings['num of ratings'] = pd.DataFrame(df.groupby('title')['rating'].count())\n",
    "ratings.head()"
   ]
  },
  {
   "cell_type": "markdown",
   "id": "58eee0b0",
   "metadata": {},
   "source": [
    "The 71 (2014) movie has been rated only by one person and get an average rate of 4. 'Round Midnight (1986) movie rated by 2 users and get an avarge rate 3.5 and so on."
   ]
  },
  {
   "cell_type": "code",
   "execution_count": 53,
   "id": "8040caa1",
   "metadata": {},
   "outputs": [
    {
     "data": {
      "text/plain": [
       "<AxesSubplot: >"
      ]
     },
     "execution_count": 53,
     "metadata": {},
     "output_type": "execute_result"
    },
    {
     "data": {
      "image/png": "[encoded data removed]",
      "text/plain": [
       "<Figure size 720x288 with 1 Axes>"
      ]
     },
     "metadata": {
      "needs_background": "light"
     },
     "output_type": "display_data"
    }
   ],
   "source": [
    "#Lets see the histogram of the number of ratings\n",
    "plt.figure(figsize=(10,4))\n",
    "ratings['num of ratings'].hist(bins=70)"
   ]
  },
  {
   "cell_type": "markdown",
   "id": "457fa10f",
   "metadata": {},
   "source": [
    "Almost all movies are rated not more than 4 users."
   ]
  },
  {
   "cell_type": "code",
   "execution_count": 54,
   "id": "88c26ce4",
   "metadata": {},
   "outputs": [
    {
     "data": {
      "text/plain": [
       "<AxesSubplot: >"
      ]
     },
     "execution_count": 54,
     "metadata": {},
     "output_type": "execute_result"
    },
    {
     "data": {
      "image/png": "[encoded data removed]",
      "text/plain": [
       "<Figure size 720x288 with 1 Axes>"
      ]
     },
     "metadata": {
      "needs_background": "light"
     },
     "output_type": "display_data"
    }
   ],
   "source": [
    "plt.figure(figsize=(10,4))\n",
    "ratings['rating'].hist(bins=70)"
   ]
  },
  {
   "cell_type": "code",
   "execution_count": 55,
   "id": "b4b78a36",
   "metadata": {},
   "outputs": [
    {
     "data": {
      "text/plain": [
       "Text(0.5, 6.799999999999994, 'Average ratings')"
      ]
     },
     "execution_count": 55,
     "metadata": {},
     "output_type": "execute_result"
    },
    {
     "data": {
      "text/plain": [
       "<Figure size 720x288 with 0 Axes>"
      ]
     },
     "metadata": {},
     "output_type": "display_data"
    },
    {
     "data": {
      "image/png": "[encoded data removed]",
      "text/plain": [
       "<Figure size 360x360 with 1 Axes>"
      ]
     },
     "metadata": {
      "needs_background": "light"
     },
     "output_type": "display_data"
    }
   ],
   "source": [
    "#Seaborn histogram\n",
    "plt.figure(figsize=(10,4))\n",
    "sns.displot(data=ratings,x='rating', kind='hist',kde=True)\n",
    "plt.xlabel('Average ratings')"
   ]
  },
  {
   "cell_type": "code",
   "execution_count": 56,
   "id": "2fbe4f71",
   "metadata": {},
   "outputs": [
    {
     "data": {
      "text/plain": [
       "<seaborn.axisgrid.JointGrid at 0x15697353490>"
      ]
     },
     "execution_count": 56,
     "metadata": {},
     "output_type": "execute_result"
    },
    {
     "data": {
      "image/png": "[encoded data removed]",
      "text/plain": [
       "<Figure size 432x432 with 3 Axes>"
      ]
     },
     "metadata": {
      "needs_background": "light"
     },
     "output_type": "display_data"
    }
   ],
   "source": [
    "sns.jointplot(x='rating',y='num of ratings',data=ratings,alpha=0.5)"
   ]
  },
  {
   "cell_type": "markdown",
   "id": "0b1ef31e",
   "metadata": {},
   "source": [
    "### Creating a Dataset for Surprise"
   ]
  },
  {
   "cell_type": "code",
   "execution_count": 37,
   "id": "5b472a04",
   "metadata": {},
   "outputs": [],
   "source": [
    "reader=Reader(rating_scale=(1,5))\n",
    "data=Dataset.load_from_df(ratings_df[['userId','movieId','rating']],reader)"
   ]
  },
  {
   "cell_type": "code",
   "execution_count": 38,
   "id": "dba64bc0",
   "metadata": {},
   "outputs": [],
   "source": [
    "#instantiate the models\n",
    "fsvd=SVD(n_factors=5,\n",
    "       n_epochs=1000,\n",
    "       verbose=False,\n",
    "         random_state=42)\n",
    "\n",
    "svdpp=SVDpp(n_factors=2,\n",
    "           n_epochs=1000,\n",
    "           random_state=42)\n",
    "\n",
    "knnbasic=KNNBasic(k=100)\n",
    "\n",
    "nmf=NMF(n_factors=2,\n",
    "       n_epochs=1000,\n",
    "       random_state=42)\n",
    "\n",
    "slopeone=SlopeOne()\n",
    "\n",
    "cocluster=CoClustering(n_cltr_u=5,\n",
    "                      n_cltr_i=5,\n",
    "                      n_epochs=1000,\n",
    "                      random_state=42)"
   ]
  },
  {
   "cell_type": "markdown",
   "id": "2208f5da",
   "metadata": {},
   "source": [
    "### SVD model"
   ]
  },
  {
   "cell_type": "code",
   "execution_count": 39,
   "id": "806f65ab",
   "metadata": {},
   "outputs": [],
   "source": [
    "#Cross validate the model using the data objects\n",
    "ssvdcv=cross_validate(algo=fsvd,\n",
    "               data=data, \n",
    "               measures=['rmse'],\n",
    "               cv=3,\n",
    "              verbose=False)"
   ]
  },
  {
   "cell_type": "code",
   "execution_count": 40,
   "id": "f2529469",
   "metadata": {},
   "outputs": [
    {
     "data": {
      "text/plain": [
       "{'test_rmse': array([0.97384163, 0.97624358, 0.9708758 ]),\n",
       " 'fit_time': (36.8936653137207, 35.903892278671265, 36.11117148399353),\n",
       " 'test_time': (0.5155763626098633, 0.7030503749847412, 0.49993371963500977)}"
      ]
     },
     "execution_count": 40,
     "metadata": {},
     "output_type": "execute_result"
    }
   ],
   "source": [
    "ssvdcv"
   ]
  },
  {
   "cell_type": "code",
   "execution_count": 41,
   "id": "eefc401e",
   "metadata": {},
   "outputs": [
    {
     "data": {
      "text/html": [
       "<div>\n",
       "<style scoped>\n",
       "    .dataframe tbody tr th:only-of-type {\n",
       "        vertical-align: middle;\n",
       "    }\n",
       "\n",
       "    .dataframe tbody tr th {\n",
       "        vertical-align: top;\n",
       "    }\n",
       "\n",
       "    .dataframe thead th {\n",
       "        text-align: right;\n",
       "    }\n",
       "</style>\n",
       "<table border=\"1\" class=\"dataframe\">\n",
       "  <thead>\n",
       "    <tr style=\"text-align: right;\">\n",
       "      <th></th>\n",
       "      <th>test_rmse</th>\n",
       "      <th>fit_time</th>\n",
       "      <th>test_time</th>\n",
       "    </tr>\n",
       "  </thead>\n",
       "  <tbody>\n",
       "    <tr>\n",
       "      <th>0</th>\n",
       "      <td>0.970075</td>\n",
       "      <td>10.002729</td>\n",
       "      <td>0.126568</td>\n",
       "    </tr>\n",
       "    <tr>\n",
       "      <th>1</th>\n",
       "      <td>0.969399</td>\n",
       "      <td>10.782934</td>\n",
       "      <td>0.352833</td>\n",
       "    </tr>\n",
       "    <tr>\n",
       "      <th>2</th>\n",
       "      <td>0.969187</td>\n",
       "      <td>10.498991</td>\n",
       "      <td>0.124512</td>\n",
       "    </tr>\n",
       "  </tbody>\n",
       "</table>\n",
       "</div>"
      ],
      "text/plain": [
       "   test_rmse   fit_time  test_time\n",
       "0   0.970075  10.002729   0.126568\n",
       "1   0.969399  10.782934   0.352833\n",
       "2   0.969187  10.498991   0.124512"
      ]
     },
     "execution_count": 41,
     "metadata": {},
     "output_type": "execute_result"
    }
   ],
   "source": [
    "fsvdcv_df=pd.DataFrame({'test_rmse':[0.97007522, 0.96939875, 0.96918698],\n",
    "                       'fit_time':[10.002729177474976, 10.782934188842773, 10.498990535736084],\n",
    "                       'test_time':[0.12656760215759277, 0.35283327102661133, 0.12451171875]})\n",
    "fsvdcv_df"
   ]
  },
  {
   "cell_type": "code",
   "execution_count": 14,
   "id": "a44a4b20",
   "metadata": {},
   "outputs": [
    {
     "data": {
      "text/plain": [
       "test_rmse     0.969554\n",
       "fit_time     10.428218\n",
       "test_time     0.201304\n",
       "dtype: float64"
      ]
     },
     "execution_count": 14,
     "metadata": {},
     "output_type": "execute_result"
    }
   ],
   "source": [
    "fsvdcv_df.mean()"
   ]
  },
  {
   "cell_type": "markdown",
   "id": "e79f309f",
   "metadata": {},
   "source": [
    "### Generating Rating Predictions"
   ]
  },
  {
   "cell_type": "code",
   "execution_count": 81,
   "id": "981e9733",
   "metadata": {},
   "outputs": [
    {
     "data": {
      "text/plain": [
       "Prediction(uid=10, iid=100, r_ui=None, est=1, details={'was_impossible': False})"
      ]
     },
     "execution_count": 81,
     "metadata": {},
     "output_type": "execute_result"
    }
   ],
   "source": [
    "fsvd.predict(uid=10, iid=100)"
   ]
  },
  {
   "cell_type": "markdown",
   "id": "a0f526da",
   "metadata": {},
   "source": [
    "### Visualizing the Similarity Between Books Using t-SNE"
   ]
  },
  {
   "cell_type": "code",
   "execution_count": 42,
   "id": "e80a49bf",
   "metadata": {},
   "outputs": [
    {
     "data": {
      "text/plain": [
       "(8365, 5)"
      ]
     },
     "execution_count": 42,
     "metadata": {},
     "output_type": "execute_result"
    }
   ],
   "source": [
    "fsvd.qi.shape"
   ]
  },
  {
   "cell_type": "code",
   "execution_count": 43,
   "id": "b7029423",
   "metadata": {},
   "outputs": [
    {
     "name": "stdout",
     "output_type": "stream",
     "text": [
      "[t-SNE] Computing 91 nearest neighbors...\n",
      "[t-SNE] Indexed 8365 samples in 0.016s...\n",
      "[t-SNE] Computed neighbors for 8365 samples in 1.301s...\n",
      "[t-SNE] Computed conditional probabilities for sample 1000 / 8365\n",
      "[t-SNE] Computed conditional probabilities for sample 2000 / 8365\n",
      "[t-SNE] Computed conditional probabilities for sample 3000 / 8365\n",
      "[t-SNE] Computed conditional probabilities for sample 4000 / 8365\n",
      "[t-SNE] Computed conditional probabilities for sample 5000 / 8365\n",
      "[t-SNE] Computed conditional probabilities for sample 6000 / 8365\n",
      "[t-SNE] Computed conditional probabilities for sample 7000 / 8365\n",
      "[t-SNE] Computed conditional probabilities for sample 8000 / 8365\n",
      "[t-SNE] Computed conditional probabilities for sample 8365 / 8365\n",
      "[t-SNE] Mean sigma: 0.112919\n",
      "[t-SNE] Computed conditional probabilities in 0.606s\n",
      "[t-SNE] Iteration 50: error = 93.5219498, gradient norm = 0.0132055 (50 iterations in 4.904s)\n",
      "[t-SNE] Iteration 100: error = 90.8786469, gradient norm = 0.0005494 (50 iterations in 4.315s)\n",
      "[t-SNE] Iteration 150: error = 90.8764725, gradient norm = 0.0001303 (50 iterations in 3.945s)\n",
      "[t-SNE] Iteration 200: error = 90.8781357, gradient norm = 0.0000538 (50 iterations in 3.774s)\n",
      "[t-SNE] Iteration 250: error = 90.8787003, gradient norm = 0.0000437 (50 iterations in 3.735s)\n",
      "[t-SNE] KL divergence after 250 iterations with early exaggeration: 90.878700\n",
      "[t-SNE] Iteration 300: error = 3.2474661, gradient norm = 0.0132909 (50 iterations in 3.509s)\n",
      "[t-SNE] Iteration 350: error = 2.7646496, gradient norm = 0.0112446 (50 iterations in 3.638s)\n",
      "[t-SNE] Iteration 400: error = 2.5374508, gradient norm = 0.0102494 (50 iterations in 3.611s)\n",
      "[t-SNE] Iteration 450: error = 2.4027014, gradient norm = 0.0094175 (50 iterations in 3.597s)\n",
      "[t-SNE] Iteration 500: error = 2.3144979, gradient norm = 0.0086915 (50 iterations in 3.590s)\n",
      "[t-SNE] KL divergence after 500 iterations: 2.314498\n"
     ]
    }
   ],
   "source": [
    "tsne = TSNE(n_components=2, n_iter=500, verbose=3, random_state=1)\n",
    "movies_projected = tsne.fit_transform(fsvd.qi)\n",
    "projection = pd.DataFrame(columns=['x', 'y'], data=movies_projected)\n",
    "projection['title'] = movie_df['title']"
   ]
  },
  {
   "cell_type": "code",
   "execution_count": 20,
   "id": "5017159e",
   "metadata": {},
   "outputs": [
    {
     "data": {
      "text/html": [
       "<div>\n",
       "<style scoped>\n",
       "    .dataframe tbody tr th:only-of-type {\n",
       "        vertical-align: middle;\n",
       "    }\n",
       "\n",
       "    .dataframe tbody tr th {\n",
       "        vertical-align: top;\n",
       "    }\n",
       "\n",
       "    .dataframe thead th {\n",
       "        text-align: right;\n",
       "    }\n",
       "</style>\n",
       "<table border=\"1\" class=\"dataframe\">\n",
       "  <thead>\n",
       "    <tr style=\"text-align: right;\">\n",
       "      <th></th>\n",
       "      <th>x</th>\n",
       "      <th>y</th>\n",
       "      <th>title</th>\n",
       "    </tr>\n",
       "  </thead>\n",
       "  <tbody>\n",
       "    <tr>\n",
       "      <th>0</th>\n",
       "      <td>19.555662</td>\n",
       "      <td>-7.009352</td>\n",
       "      <td>Toy Story (1995)</td>\n",
       "    </tr>\n",
       "    <tr>\n",
       "      <th>1</th>\n",
       "      <td>-9.905551</td>\n",
       "      <td>-5.752976</td>\n",
       "      <td>Jumanji (1995)</td>\n",
       "    </tr>\n",
       "    <tr>\n",
       "      <th>2</th>\n",
       "      <td>11.877886</td>\n",
       "      <td>14.213196</td>\n",
       "      <td>Grumpier Old Men (1995)</td>\n",
       "    </tr>\n",
       "    <tr>\n",
       "      <th>3</th>\n",
       "      <td>-22.340626</td>\n",
       "      <td>-18.132133</td>\n",
       "      <td>Waiting to Exhale (1995)</td>\n",
       "    </tr>\n",
       "    <tr>\n",
       "      <th>4</th>\n",
       "      <td>16.535341</td>\n",
       "      <td>7.105808</td>\n",
       "      <td>Father of the Bride Part II (1995)</td>\n",
       "    </tr>\n",
       "    <tr>\n",
       "      <th>...</th>\n",
       "      <td>...</td>\n",
       "      <td>...</td>\n",
       "      <td>...</td>\n",
       "    </tr>\n",
       "    <tr>\n",
       "      <th>8363</th>\n",
       "      <td>-8.823358</td>\n",
       "      <td>-16.189831</td>\n",
       "      <td>Date and Switch (2014)</td>\n",
       "    </tr>\n",
       "    <tr>\n",
       "      <th>8364</th>\n",
       "      <td>5.839649</td>\n",
       "      <td>20.788881</td>\n",
       "      <td>Zero Theorem, The (2013)</td>\n",
       "    </tr>\n",
       "    <tr>\n",
       "      <th>8365</th>\n",
       "      <td>8.071890</td>\n",
       "      <td>23.519691</td>\n",
       "      <td>Winter's Tale (2014)</td>\n",
       "    </tr>\n",
       "    <tr>\n",
       "      <th>8366</th>\n",
       "      <td>24.363985</td>\n",
       "      <td>4.760621</td>\n",
       "      <td>On the Other Side of the Tracks (De l'autre cô...</td>\n",
       "    </tr>\n",
       "    <tr>\n",
       "      <th>8367</th>\n",
       "      <td>-4.551353</td>\n",
       "      <td>12.338484</td>\n",
       "      <td>GLOW: The Story of the Gorgeous Ladies of Wres...</td>\n",
       "    </tr>\n",
       "  </tbody>\n",
       "</table>\n",
       "<p>8368 rows × 3 columns</p>\n",
       "</div>"
      ],
      "text/plain": [
       "              x          y                                              title\n",
       "0     19.555662  -7.009352                                   Toy Story (1995)\n",
       "1     -9.905551  -5.752976                                     Jumanji (1995)\n",
       "2     11.877886  14.213196                            Grumpier Old Men (1995)\n",
       "3    -22.340626 -18.132133                           Waiting to Exhale (1995)\n",
       "4     16.535341   7.105808                 Father of the Bride Part II (1995)\n",
       "...         ...        ...                                                ...\n",
       "8363  -8.823358 -16.189831                             Date and Switch (2014)\n",
       "8364   5.839649  20.788881                           Zero Theorem, The (2013)\n",
       "8365   8.071890  23.519691                               Winter's Tale (2014)\n",
       "8366  24.363985   4.760621  On the Other Side of the Tracks (De l'autre cô...\n",
       "8367  -4.551353  12.338484  GLOW: The Story of the Gorgeous Ladies of Wres...\n",
       "\n",
       "[8368 rows x 3 columns]"
      ]
     },
     "execution_count": 20,
     "metadata": {},
     "output_type": "execute_result"
    }
   ],
   "source": [
    "projection"
   ]
  },
  {
   "cell_type": "code",
   "execution_count": 44,
   "id": "8414ed35",
   "metadata": {},
   "outputs": [
    {
     "data": {
      "image/png": "[encoded data removed]",
      "text/plain": [
       "<Figure size 432x432 with 3 Axes>"
      ]
     },
     "metadata": {
      "needs_background": "light"
     },
     "output_type": "display_data"
    }
   ],
   "source": [
    "sns.jointplot(data=projection,x='x',y='y', kind='scatter',color=None, palette='coolwarm')\n",
    "plt.show()"
   ]
  },
  {
   "cell_type": "markdown",
   "id": "453069d8",
   "metadata": {},
   "source": [
    "### KNN Basic Model"
   ]
  },
  {
   "cell_type": "code",
   "execution_count": 83,
   "id": "3b3f8806",
   "metadata": {},
   "outputs": [
    {
     "name": "stdout",
     "output_type": "stream",
     "text": [
      "Computing the msd similarity matrix...\n",
      "Done computing similarity matrix.\n",
      "Computing the msd similarity matrix...\n",
      "Done computing similarity matrix.\n",
      "Computing the msd similarity matrix...\n",
      "Done computing similarity matrix.\n"
     ]
    }
   ],
   "source": [
    "#Cross validate the model using the data objects\n",
    "knnbasiccv=cross_validate(algo=knnbasic,\n",
    "               data=data, \n",
    "               measures=['rmse'],\n",
    "               cv=3,\n",
    "              verbose=False)"
   ]
  },
  {
   "cell_type": "code",
   "execution_count": 84,
   "id": "f9e94243",
   "metadata": {},
   "outputs": [
    {
     "data": {
      "text/plain": [
       "{'test_rmse': array([0.96248186, 0.96756082, 0.95885983]),\n",
       " 'fit_time': (0.06330227851867676, 0.08484292030334473, 0.07769942283630371),\n",
       " 'test_time': (1.2942686080932617, 1.634314775466919, 1.1661553382873535)}"
      ]
     },
     "execution_count": 84,
     "metadata": {},
     "output_type": "execute_result"
    }
   ],
   "source": [
    "knnbasiccv"
   ]
  },
  {
   "cell_type": "code",
   "execution_count": 85,
   "id": "b48e35bf",
   "metadata": {},
   "outputs": [
    {
     "data": {
      "text/html": [
       "<div>\n",
       "<style scoped>\n",
       "    .dataframe tbody tr th:only-of-type {\n",
       "        vertical-align: middle;\n",
       "    }\n",
       "\n",
       "    .dataframe tbody tr th {\n",
       "        vertical-align: top;\n",
       "    }\n",
       "\n",
       "    .dataframe thead th {\n",
       "        text-align: right;\n",
       "    }\n",
       "</style>\n",
       "<table border=\"1\" class=\"dataframe\">\n",
       "  <thead>\n",
       "    <tr style=\"text-align: right;\">\n",
       "      <th></th>\n",
       "      <th>test_rmse</th>\n",
       "      <th>fit_time</th>\n",
       "      <th>test_time</th>\n",
       "    </tr>\n",
       "  </thead>\n",
       "  <tbody>\n",
       "    <tr>\n",
       "      <th>0</th>\n",
       "      <td>0.962482</td>\n",
       "      <td>0.063302</td>\n",
       "      <td>1.294269</td>\n",
       "    </tr>\n",
       "    <tr>\n",
       "      <th>1</th>\n",
       "      <td>0.967561</td>\n",
       "      <td>0.084843</td>\n",
       "      <td>1.634315</td>\n",
       "    </tr>\n",
       "    <tr>\n",
       "      <th>2</th>\n",
       "      <td>0.958860</td>\n",
       "      <td>0.077699</td>\n",
       "      <td>1.166155</td>\n",
       "    </tr>\n",
       "  </tbody>\n",
       "</table>\n",
       "</div>"
      ],
      "text/plain": [
       "   test_rmse  fit_time  test_time\n",
       "0   0.962482  0.063302   1.294269\n",
       "1   0.967561  0.084843   1.634315\n",
       "2   0.958860  0.077699   1.166155"
      ]
     },
     "execution_count": 85,
     "metadata": {},
     "output_type": "execute_result"
    }
   ],
   "source": [
    "knncv_df=pd.DataFrame({'test_rmse':[0.96248186, 0.96756082, 0.95885983],\n",
    "                       'fit_time':[0.06330227851867676, 0.08484292030334473, 0.07769942283630371],\n",
    "                       'test_time':[1.2942686080932617, 1.634314775466919, 1.1661553382873535]})\n",
    "knncv_df"
   ]
  },
  {
   "cell_type": "code",
   "execution_count": 86,
   "id": "d9838d83",
   "metadata": {},
   "outputs": [
    {
     "data": {
      "text/plain": [
       "test_rmse    0.962968\n",
       "fit_time     0.075282\n",
       "test_time    1.364913\n",
       "dtype: float64"
      ]
     },
     "execution_count": 86,
     "metadata": {},
     "output_type": "execute_result"
    }
   ],
   "source": [
    "knncv_df.mean()"
   ]
  },
  {
   "cell_type": "markdown",
   "id": "8a5b054a",
   "metadata": {},
   "source": [
    "### No Negative Matrix Factorization "
   ]
  },
  {
   "cell_type": "code",
   "execution_count": 87,
   "id": "539cc3b4",
   "metadata": {},
   "outputs": [],
   "source": [
    "#Cross validate the model using the data objects\n",
    "knmfcv=cross_validate(algo=nmf,\n",
    "               data=data, \n",
    "               measures=['rmse'],\n",
    "               cv=3,\n",
    "              verbose=False)"
   ]
  },
  {
   "cell_type": "code",
   "execution_count": 88,
   "id": "3ad042c8",
   "metadata": {},
   "outputs": [
    {
     "data": {
      "text/plain": [
       "{'test_rmse': array([0.90348684, 0.89902357, 0.89968167]),\n",
       " 'fit_time': (15.058017253875732, 13.01422643661499, 13.348524808883667),\n",
       " 'test_time': (0.11276960372924805, 0.2527287006378174, 0.16670465469360352)}"
      ]
     },
     "execution_count": 88,
     "metadata": {},
     "output_type": "execute_result"
    }
   ],
   "source": [
    "knmfcv"
   ]
  },
  {
   "cell_type": "code",
   "execution_count": 89,
   "id": "426c7d9e",
   "metadata": {},
   "outputs": [
    {
     "data": {
      "text/html": [
       "<div>\n",
       "<style scoped>\n",
       "    .dataframe tbody tr th:only-of-type {\n",
       "        vertical-align: middle;\n",
       "    }\n",
       "\n",
       "    .dataframe tbody tr th {\n",
       "        vertical-align: top;\n",
       "    }\n",
       "\n",
       "    .dataframe thead th {\n",
       "        text-align: right;\n",
       "    }\n",
       "</style>\n",
       "<table border=\"1\" class=\"dataframe\">\n",
       "  <thead>\n",
       "    <tr style=\"text-align: right;\">\n",
       "      <th></th>\n",
       "      <th>test_rmse</th>\n",
       "      <th>fit_time</th>\n",
       "      <th>test_time</th>\n",
       "    </tr>\n",
       "  </thead>\n",
       "  <tbody>\n",
       "    <tr>\n",
       "      <th>0</th>\n",
       "      <td>0.903487</td>\n",
       "      <td>15.058017</td>\n",
       "      <td>0.112770</td>\n",
       "    </tr>\n",
       "    <tr>\n",
       "      <th>1</th>\n",
       "      <td>0.899024</td>\n",
       "      <td>13.014226</td>\n",
       "      <td>0.252729</td>\n",
       "    </tr>\n",
       "    <tr>\n",
       "      <th>2</th>\n",
       "      <td>0.899682</td>\n",
       "      <td>13.348525</td>\n",
       "      <td>0.166705</td>\n",
       "    </tr>\n",
       "  </tbody>\n",
       "</table>\n",
       "</div>"
      ],
      "text/plain": [
       "   test_rmse   fit_time  test_time\n",
       "0   0.903487  15.058017   0.112770\n",
       "1   0.899024  13.014226   0.252729\n",
       "2   0.899682  13.348525   0.166705"
      ]
     },
     "execution_count": 89,
     "metadata": {},
     "output_type": "execute_result"
    }
   ],
   "source": [
    "nmfcv_df=pd.DataFrame({'test_rmse':[0.90348684, 0.89902357, 0.89968167],\n",
    "                       'fit_time':[15.058017253875732, 13.01422643661499, 13.348524808883667],\n",
    "                       'test_time':[0.11276960372924805, 0.2527287006378174, 0.16670465469360352]})\n",
    "nmfcv_df"
   ]
  },
  {
   "cell_type": "code",
   "execution_count": 90,
   "id": "c60365cd",
   "metadata": {},
   "outputs": [
    {
     "data": {
      "text/plain": [
       "test_rmse     0.900731\n",
       "fit_time     13.806923\n",
       "test_time     0.177401\n",
       "dtype: float64"
      ]
     },
     "execution_count": 90,
     "metadata": {},
     "output_type": "execute_result"
    }
   ],
   "source": [
    "nmfcv_df.mean()"
   ]
  },
  {
   "cell_type": "markdown",
   "id": "1a000a63",
   "metadata": {},
   "source": [
    "### SlpoeOne Model\n"
   ]
  },
  {
   "cell_type": "code",
   "execution_count": 91,
   "id": "2e30c31f",
   "metadata": {},
   "outputs": [],
   "source": [
    "#Cross validate the model using the data objects\n",
    "slopeonecv=cross_validate(algo=slopeone,\n",
    "               data=data, \n",
    "               measures=['rmse'],\n",
    "               cv=3,\n",
    "              verbose=False)"
   ]
  },
  {
   "cell_type": "code",
   "execution_count": 92,
   "id": "4bebfde1",
   "metadata": {},
   "outputs": [
    {
     "data": {
      "text/plain": [
       "{'test_rmse': array([0.9104934 , 0.90473779, 0.91557536]),\n",
       " 'fit_time': (1.6712992191314697, 1.3257255554199219, 1.3497865200042725),\n",
       " 'test_time': (4.782657146453857, 4.907818555831909, 4.5770299434661865)}"
      ]
     },
     "execution_count": 92,
     "metadata": {},
     "output_type": "execute_result"
    }
   ],
   "source": [
    "slopeonecv"
   ]
  },
  {
   "cell_type": "code",
   "execution_count": 93,
   "id": "05934e36",
   "metadata": {},
   "outputs": [
    {
     "data": {
      "text/html": [
       "<div>\n",
       "<style scoped>\n",
       "    .dataframe tbody tr th:only-of-type {\n",
       "        vertical-align: middle;\n",
       "    }\n",
       "\n",
       "    .dataframe tbody tr th {\n",
       "        vertical-align: top;\n",
       "    }\n",
       "\n",
       "    .dataframe thead th {\n",
       "        text-align: right;\n",
       "    }\n",
       "</style>\n",
       "<table border=\"1\" class=\"dataframe\">\n",
       "  <thead>\n",
       "    <tr style=\"text-align: right;\">\n",
       "      <th></th>\n",
       "      <th>test_rmse</th>\n",
       "      <th>fit_time</th>\n",
       "      <th>test_time</th>\n",
       "    </tr>\n",
       "  </thead>\n",
       "  <tbody>\n",
       "    <tr>\n",
       "      <th>0</th>\n",
       "      <td>0.910493</td>\n",
       "      <td>1.671299</td>\n",
       "      <td>4.782657</td>\n",
       "    </tr>\n",
       "    <tr>\n",
       "      <th>1</th>\n",
       "      <td>0.904738</td>\n",
       "      <td>1.325726</td>\n",
       "      <td>4.907819</td>\n",
       "    </tr>\n",
       "    <tr>\n",
       "      <th>2</th>\n",
       "      <td>0.915575</td>\n",
       "      <td>1.349787</td>\n",
       "      <td>4.577030</td>\n",
       "    </tr>\n",
       "  </tbody>\n",
       "</table>\n",
       "</div>"
      ],
      "text/plain": [
       "   test_rmse  fit_time  test_time\n",
       "0   0.910493  1.671299   4.782657\n",
       "1   0.904738  1.325726   4.907819\n",
       "2   0.915575  1.349787   4.577030"
      ]
     },
     "execution_count": 93,
     "metadata": {},
     "output_type": "execute_result"
    }
   ],
   "source": [
    "slopeonecv_df=pd.DataFrame({'test_rmse':[0.9104934 , 0.90473779, 0.91557536],\n",
    "                       'fit_time':[1.6712992191314697, 1.3257255554199219, 1.3497865200042725],\n",
    "                       'test_time':[4.782657146453857, 4.907818555831909, 4.5770299434661865]})\n",
    "slopeonecv_df"
   ]
  },
  {
   "cell_type": "code",
   "execution_count": 94,
   "id": "aac6528c",
   "metadata": {},
   "outputs": [
    {
     "data": {
      "text/plain": [
       "test_rmse    0.910269\n",
       "fit_time     1.448937\n",
       "test_time    4.755835\n",
       "dtype: float64"
      ]
     },
     "execution_count": 94,
     "metadata": {},
     "output_type": "execute_result"
    }
   ],
   "source": [
    "slopeonecv_df.mean()"
   ]
  },
  {
   "cell_type": "markdown",
   "id": "0a5f1586",
   "metadata": {},
   "source": [
    "### CoClustering Model"
   ]
  },
  {
   "cell_type": "code",
   "execution_count": 95,
   "id": "9478f333",
   "metadata": {},
   "outputs": [],
   "source": [
    "#Cross validate the model using the data objects\n",
    "coclustercv=cross_validate(algo=cocluster,\n",
    "               data=data, \n",
    "               measures=['rmse'],\n",
    "               cv=3,\n",
    "              verbose=False)"
   ]
  },
  {
   "cell_type": "code",
   "execution_count": 96,
   "id": "caf4389e",
   "metadata": {},
   "outputs": [
    {
     "data": {
      "text/plain": [
       "{'test_rmse': array([0.96137917, 0.95997287, 0.95943802]),\n",
       " 'fit_time': (89.8466944694519, 85.96856760978699, 80.37910008430481),\n",
       " 'test_time': (0.10594511032104492, 0.10052347183227539, 0.07810258865356445)}"
      ]
     },
     "execution_count": 96,
     "metadata": {},
     "output_type": "execute_result"
    }
   ],
   "source": [
    "coclustercv"
   ]
  },
  {
   "cell_type": "code",
   "execution_count": 97,
   "id": "15b75e9a",
   "metadata": {},
   "outputs": [
    {
     "data": {
      "text/html": [
       "<div>\n",
       "<style scoped>\n",
       "    .dataframe tbody tr th:only-of-type {\n",
       "        vertical-align: middle;\n",
       "    }\n",
       "\n",
       "    .dataframe tbody tr th {\n",
       "        vertical-align: top;\n",
       "    }\n",
       "\n",
       "    .dataframe thead th {\n",
       "        text-align: right;\n",
       "    }\n",
       "</style>\n",
       "<table border=\"1\" class=\"dataframe\">\n",
       "  <thead>\n",
       "    <tr style=\"text-align: right;\">\n",
       "      <th></th>\n",
       "      <th>test_rmse</th>\n",
       "      <th>fit_time</th>\n",
       "      <th>test_time</th>\n",
       "    </tr>\n",
       "  </thead>\n",
       "  <tbody>\n",
       "    <tr>\n",
       "      <th>0</th>\n",
       "      <td>0.961379</td>\n",
       "      <td>89.846694</td>\n",
       "      <td>0.105945</td>\n",
       "    </tr>\n",
       "    <tr>\n",
       "      <th>1</th>\n",
       "      <td>0.959973</td>\n",
       "      <td>85.968568</td>\n",
       "      <td>0.100523</td>\n",
       "    </tr>\n",
       "    <tr>\n",
       "      <th>2</th>\n",
       "      <td>0.959438</td>\n",
       "      <td>80.379100</td>\n",
       "      <td>0.078103</td>\n",
       "    </tr>\n",
       "  </tbody>\n",
       "</table>\n",
       "</div>"
      ],
      "text/plain": [
       "   test_rmse   fit_time  test_time\n",
       "0   0.961379  89.846694   0.105945\n",
       "1   0.959973  85.968568   0.100523\n",
       "2   0.959438  80.379100   0.078103"
      ]
     },
     "execution_count": 97,
     "metadata": {},
     "output_type": "execute_result"
    }
   ],
   "source": [
    "coclustercv_df=pd.DataFrame({'test_rmse':[0.96137917, 0.95997287, 0.95943802],\n",
    "                       'fit_time':[89.8466944694519, 85.96856760978699, 80.37910008430481],\n",
    "                       'test_time':[0.10594511032104492, 0.10052347183227539, 0.07810258865356445]})\n",
    "coclustercv_df"
   ]
  },
  {
   "cell_type": "code",
   "execution_count": 98,
   "id": "2f391369",
   "metadata": {},
   "outputs": [
    {
     "data": {
      "text/plain": [
       "test_rmse     0.960263\n",
       "fit_time     85.398121\n",
       "test_time     0.094857\n",
       "dtype: float64"
      ]
     },
     "execution_count": 98,
     "metadata": {},
     "output_type": "execute_result"
    }
   ],
   "source": [
    "coclustercv_df.mean()"
   ]
  },
  {
   "cell_type": "code",
   "execution_count": 113,
   "id": "7f967aa5",
   "metadata": {},
   "outputs": [
    {
     "data": {
      "text/html": [
       "<div>\n",
       "<style scoped>\n",
       "    .dataframe tbody tr th:only-of-type {\n",
       "        vertical-align: middle;\n",
       "    }\n",
       "\n",
       "    .dataframe tbody tr th {\n",
       "        vertical-align: top;\n",
       "    }\n",
       "\n",
       "    .dataframe thead th {\n",
       "        text-align: right;\n",
       "    }\n",
       "</style>\n",
       "<table border=\"1\" class=\"dataframe\">\n",
       "  <thead>\n",
       "    <tr style=\"text-align: right;\">\n",
       "      <th></th>\n",
       "      <th>test_rmse</th>\n",
       "      <th>fit_time</th>\n",
       "      <th>test_time</th>\n",
       "    </tr>\n",
       "    <tr>\n",
       "      <th>Models</th>\n",
       "      <th></th>\n",
       "      <th></th>\n",
       "      <th></th>\n",
       "    </tr>\n",
       "  </thead>\n",
       "  <tbody>\n",
       "    <tr>\n",
       "      <th>SVD</th>\n",
       "      <td>0.969554</td>\n",
       "      <td>10.428218</td>\n",
       "      <td>0.201304</td>\n",
       "    </tr>\n",
       "    <tr>\n",
       "      <th>KNNBasic</th>\n",
       "      <td>0.962968</td>\n",
       "      <td>0.075282</td>\n",
       "      <td>1.364913</td>\n",
       "    </tr>\n",
       "    <tr>\n",
       "      <th>NMF</th>\n",
       "      <td>0.900731</td>\n",
       "      <td>13.806923</td>\n",
       "      <td>0.177401</td>\n",
       "    </tr>\n",
       "    <tr>\n",
       "      <th>SolpeOne</th>\n",
       "      <td>0.910269</td>\n",
       "      <td>1.448937</td>\n",
       "      <td>4.755835</td>\n",
       "    </tr>\n",
       "    <tr>\n",
       "      <th>CoClustering</th>\n",
       "      <td>0.960263</td>\n",
       "      <td>85.398121</td>\n",
       "      <td>0.094857</td>\n",
       "    </tr>\n",
       "  </tbody>\n",
       "</table>\n",
       "</div>"
      ],
      "text/plain": [
       "              test_rmse   fit_time  test_time\n",
       "Models                                       \n",
       "SVD            0.969554  10.428218   0.201304\n",
       "KNNBasic       0.962968   0.075282   1.364913\n",
       "NMF            0.900731  13.806923   0.177401\n",
       "SolpeOne       0.910269   1.448937   4.755835\n",
       "CoClustering   0.960263  85.398121   0.094857"
      ]
     },
     "execution_count": 113,
     "metadata": {},
     "output_type": "execute_result"
    }
   ],
   "source": [
    "result_df=pd.DataFrame({'Models':['SVD','KNNBasic','NMF','SolpeOne','CoClustering'],\n",
    "               'test_rmse':[0.969554,0.962968,0.900731,0.910269, 0.960263],\n",
    "               'fit_time':[10.428218,0.075282,13.806923,1.448937, 85.398121],\n",
    "               'test_time':[0.201304,1.364913, 0.177401,4.755835, 0.094857]}).set_index('Models')\n",
    "result_df"
   ]
  },
  {
   "cell_type": "code",
   "execution_count": null,
   "id": "e7615a5c",
   "metadata": {},
   "outputs": [],
   "source": []
  }
 ],
 "metadata": {
  "kernelspec": {
   "display_name": "Python 3 (ipykernel)",
   "language": "python",
   "name": "python3"
  },
  "language_info": {
   "codemirror_mode": {
    "name": "ipython",
    "version": 3
   },
   "file_extension": ".py",
   "mimetype": "text/x-python",
   "name": "python",
   "nbconvert_exporter": "python",
   "pygments_lexer": "ipython3",
   "version": "3.9.7"
  }
 },
 "nbformat": 4,
 "nbformat_minor": 5
}
